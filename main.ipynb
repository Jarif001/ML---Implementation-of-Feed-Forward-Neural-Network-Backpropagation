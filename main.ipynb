{
 "cells": [
  {
   "cell_type": "code",
   "execution_count": 1,
   "metadata": {},
   "outputs": [],
   "source": [
    "import numpy as np\n",
    "import pandas as pd\n",
    "from sklearn.preprocessing import LabelEncoder\n",
    "from sklearn.preprocessing import StandardScaler\n",
    "from sklearn.preprocessing import MinMaxScaler\n",
    "from sklearn.model_selection import train_test_split\n",
    "from scipy.stats import mode\n",
    "import seaborn as sns\n",
    "import matplotlib.pyplot as plt\n",
    "from sklearn.metrics import accuracy_score, precision_score, recall_score, f1_score\n",
    "import pickle\n",
    "from sklearn.metrics import confusion_matrix"
   ]
  },
  {
   "cell_type": "markdown",
   "metadata": {},
   "source": [
    "Data loading and cleaning"
   ]
  },
  {
   "cell_type": "code",
   "execution_count": null,
   "metadata": {},
   "outputs": [],
   "source": [
    "trainData = pd.read_csv('fashion-mnist_train.csv', header=0)\n",
    "testData = pd.read_csv('fashion-mnist_test.csv', header=0)\n",
    "\n",
    "# for debugging purpose\n",
    "# trainData = trainData.head(2000)\n",
    "# testData = testData.head(1000)\n",
    "\n",
    "# removing column names (1st row)\n",
    "# trainData = trainData.drop(index=0).reset_index(drop=True)\n",
    "# testData = testData.drop(index=0).reset_index(drop=True)\n",
    "\n",
    "# Removing duplicates\n",
    "trainData.drop_duplicates(inplace=True)\n",
    "testData.drop_duplicates(inplace=True) # there can be common data in training set\n",
    "# removing the data if target is null\n",
    "trainData.dropna(subset=['label'], inplace=True)\n",
    "\n",
    "# too see if everythings ok\n",
    "# print(trainData.shape)\n",
    "# print(testData.shape)"
   ]
  },
  {
   "cell_type": "markdown",
   "metadata": {},
   "source": [
    "Features and Target splitting"
   ]
  },
  {
   "cell_type": "code",
   "execution_count": 5,
   "metadata": {},
   "outputs": [
    {
     "name": "stdout",
     "output_type": "stream",
     "text": [
      "(2000, 10)\n"
     ]
    }
   ],
   "source": [
    "# For training data\n",
    "targetTrain = trainData['label']\n",
    "featuresTrain = trainData.drop(columns=['label'])\n",
    "featuresTrain.fillna(featuresTrain.mean(), inplace=True) # replace missing values of features with mean\n",
    "labelsTrain = trainData.columns\n",
    "feature_labels_initial_training = featuresTrain.columns\n",
    "\n",
    "# For testing data\n",
    "targetTest = testData['label']\n",
    "featuresTest = testData.drop(columns=['label'])\n",
    "featuresTest.fillna(featuresTest.mean(), inplace=True) # replace missing values of features with mean\n",
    "\n",
    "# converting to numpy array\n",
    "targetTrainBeforeEncode = targetTrain.values # for training accuracy\n",
    "targetTrain = pd.get_dummies(targetTrain).values.astype(int) # one hot encode to 10 neurons\n",
    "featuresTrain = featuresTrain.values\n",
    "# targetTest = pd.get_dummies(targetTest).values.astype(int) # one hot encode to 10 neurons\n",
    "targetTest = targetTest.values\n",
    "featuresTest = featuresTest.values\n",
    "\n",
    "# too see if everythings ok\n",
    "# print(targetTest[:5])\n",
    "# print(targetTest.shape)\n",
    "\n",
    "print(targetTrain.shape)"
   ]
  },
  {
   "cell_type": "markdown",
   "metadata": {},
   "source": [
    "Scaling function"
   ]
  },
  {
   "cell_type": "code",
   "execution_count": 6,
   "metadata": {},
   "outputs": [],
   "source": [
    "# scaling the features - standard (choice 0), min-max (choice 1)\n",
    "def scale_features(the_features, choice):\n",
    "    feature_scaled = the_features.copy()\n",
    "    if choice == 0:\n",
    "        scaler = StandardScaler()\n",
    "        feature_scaled = scaler.fit_transform(the_features)\n",
    "    else:\n",
    "        scaler = MinMaxScaler()\n",
    "        feature_scaled = scaler.fit_transform(the_features)\n",
    "    return feature_scaled\n",
    "\n",
    "# Apply the scaling function to our features\n",
    "choice_ = 1\n",
    "scaled_features_training = scale_features(featuresTrain, choice_)\n",
    "scaled_features_testing = scale_features(featuresTest, choice_)\n",
    "# convert from array to dataset again with the main columns\n",
    "scaled_features_training = pd.DataFrame(scaled_features_training)\n",
    "scaled_features_testing = pd.DataFrame(scaled_features_testing)\n",
    "\n",
    "# to check if everything works fine\n",
    "# print(scaled_features_training.shape)\n",
    "# print(scaled_features_testing.shape)"
   ]
  },
  {
   "cell_type": "markdown",
   "metadata": {},
   "source": [
    "Transposing to represet a row as a neuron"
   ]
  },
  {
   "cell_type": "code",
   "execution_count": 7,
   "metadata": {},
   "outputs": [],
   "source": [
    "featuresTrain = featuresTrain.T\n",
    "targetTrain = targetTrain.T\n",
    "targetTest = targetTest.T\n",
    "featuresTest = featuresTest.T\n",
    "targetTrainBeforeEncode = targetTrainBeforeEncode.T"
   ]
  },
  {
   "cell_type": "markdown",
   "metadata": {},
   "source": [
    "Activation and regression function"
   ]
  },
  {
   "cell_type": "code",
   "execution_count": 8,
   "metadata": {},
   "outputs": [],
   "source": [
    "def relu(x):\n",
    "    return np.maximum(x, 0)\n",
    "\n",
    "def softmax(x):\n",
    "    exp_x = np.exp(x - np.max(x, axis=0, keepdims=True))\n",
    "    return exp_x / (np.sum(exp_x, axis=0, keepdims=True) + 1e-10)\n",
    "    # return np.exp(x) / np.sum(np.exp(x), axis=0) # sum of i-th column\n",
    "\n",
    "def derivativeRelu(x):\n",
    "    return np.array(x > 0, dtype=np.float32)"
   ]
  },
  {
   "cell_type": "markdown",
   "metadata": {},
   "source": [
    "Initialization - randomly initialize ws, bs"
   ]
  },
  {
   "cell_type": "code",
   "execution_count": 9,
   "metadata": {},
   "outputs": [],
   "source": [
    "def init(n_x, n_h, n_y):\n",
    "    w1 = np.random.randn(n_h, n_x) * 0.01\n",
    "    b1 = np.zeros((n_h, 1))\n",
    "    w2 = np.random.randn(n_h, n_h) * 0.01\n",
    "    b2 = np.zeros((n_h, 1))\n",
    "    w3 = np.random.randn(n_y, n_h) * 0.01\n",
    "    b3 = np.zeros((n_y, 1))\n",
    "    # print(b1)\n",
    "    parameters = {\n",
    "        \"w1\": w1,\n",
    "        \"b1\": b1,\n",
    "        \"w2\": w2,\n",
    "        \"b2\": b2,\n",
    "        \"w3\": w3,\n",
    "        \"b3\": b3\n",
    "    }\n",
    "    return parameters\n",
    "\n",
    "# init(5,4,2)"
   ]
  },
  {
   "cell_type": "markdown",
   "metadata": {},
   "source": [
    "Forward propagation ->\n",
    "Zi = Wi*A(i-1) + Bi;\n",
    "Ai = f(Zi);\n",
    "A(out) = softmax(Zout)"
   ]
  },
  {
   "cell_type": "code",
   "execution_count": 10,
   "metadata": {},
   "outputs": [],
   "source": [
    "def forwardPropagation(x, parameters, isTrain, dropout_rate):\n",
    "    w1 = parameters[\"w1\"]\n",
    "    b1 = parameters[\"b1\"]\n",
    "    w2 = parameters[\"w2\"]\n",
    "    b2 = parameters[\"b2\"]\n",
    "    w3 = parameters[\"w3\"]\n",
    "    b3 = parameters[\"b3\"]\n",
    "\n",
    "    # First hidden layer\n",
    "    z1 = np.dot(w1, x) + b1\n",
    "    a1 = relu(z1)\n",
    "\n",
    "    if isTrain:\n",
    "        d1 = np.random.rand(*a1.shape) > dropout_rate # True-false mask (matrix)\n",
    "        a1 = a1 * d1 / (1 - dropout_rate)  # Apply dropout\n",
    "\n",
    "    # Second hidden layer\n",
    "    z2 = np.dot(w2, a1) + b2\n",
    "    a2 = relu(z2)\n",
    "\n",
    "    if isTrain:\n",
    "        d2 = np.random.rand(*a2.shape) > dropout_rate\n",
    "        a2 = a2 * d2 / (1 - dropout_rate)\n",
    "\n",
    "    # Output layer\n",
    "    z3 = np.dot(w3, a2) + b3\n",
    "    a3 = softmax(z3)\n",
    "    return z1, a1, z2, a2, z3, a3\n",
    "    "
   ]
  },
  {
   "cell_type": "markdown",
   "metadata": {},
   "source": [
    "Cost function"
   ]
  },
  {
   "cell_type": "code",
   "execution_count": 11,
   "metadata": {},
   "outputs": [],
   "source": [
    "def costFunction(a3, y):\n",
    "    # print(\"Y er shape - \", y.shape)\n",
    "    # print(\"a3 er shape - \", a3.shape)\n",
    "    m = y.shape[1] # no. of observations\n",
    "    epsilon = 1e-8  # Small value to avoid log(0)\n",
    "    cost = -(1/m) * np.sum(y * np.log(a3 + epsilon)) # first row wise jogfol then col wise\n",
    "    return cost"
   ]
  },
  {
   "cell_type": "markdown",
   "metadata": {},
   "source": [
    "Back propagation => dz(out) = A(out) - y;; dzi = dw(i+1)*dz(i+1)*f'(zi);; dwi = 1/m*dzi*A(i-1);; dBi = 1/m*sum(dZi,1)"
   ]
  },
  {
   "cell_type": "code",
   "execution_count": 12,
   "metadata": {},
   "outputs": [],
   "source": [
    "def backPropagation(x, y, parameters, forwardPropVar):\n",
    "    m = y.shape[1] # no of observations\n",
    "    w1 = parameters[\"w1\"]\n",
    "    b1 = parameters[\"b1\"]\n",
    "    w2 = parameters[\"w2\"]\n",
    "    b2 = parameters[\"b2\"]\n",
    "    w3 = parameters[\"w3\"]\n",
    "    b3 = parameters[\"b3\"]\n",
    "    z1, a1, z2, a2, z3, a3 = forwardPropVar\n",
    "\n",
    "    dz3 = a3 - y\n",
    "    dw3 = (1/m) * np.dot(dz3, a2.T)\n",
    "    db3 = (1/m) * np.sum(dz3, axis=1, keepdims=True)\n",
    "\n",
    "    dz2 = (1/m) * np.dot(w3.T, dz3) * derivativeRelu(a2)\n",
    "    dw2 = (1/m) * np.dot(dz2, a1.T)\n",
    "    db2 = (1/m) * np.sum(dz2, axis=1, keepdims=True)\n",
    "\n",
    "    dz1 = (1/m) * np.dot(w2.T, dz2) * derivativeRelu(a1)\n",
    "    dw1 = (1/m) * np.dot(dz1, x.T)\n",
    "    db1 = (1/m) * np.sum(dz1, axis=1, keepdims=True)\n",
    "\n",
    "    return dw1, db1, dw2, db2, dw3, db3\n",
    "    "
   ]
  },
  {
   "cell_type": "markdown",
   "metadata": {},
   "source": [
    "Update parameters"
   ]
  },
  {
   "cell_type": "code",
   "execution_count": 13,
   "metadata": {},
   "outputs": [],
   "source": [
    "def updateParameters(parameters, dsFromBackPropagation, learningRate, beta1, beta2, epsilon, vdwPrev, vdbPrev, sdwPrev, sdbPrev):\n",
    "    w1 = parameters[\"w1\"]\n",
    "    b1 = parameters[\"b1\"]\n",
    "    w2 = parameters[\"w2\"]\n",
    "    b2 = parameters[\"b2\"]\n",
    "    w3 = parameters[\"w3\"]\n",
    "    b3 = parameters[\"b3\"]\n",
    "    dw1, db1, dw2, db2, dw3, db3 = dsFromBackPropagation\n",
    "    \n",
    "    # Adam optimizer\n",
    "\n",
    "    # momentum\n",
    "    vdw1 = (beta1 * vdwPrev[0]) + ((1-beta1) * dw1)\n",
    "    vdw2 = (beta1 * vdwPrev[1]) + ((1-beta1) * dw2)\n",
    "    vdws = [vdw1, vdw2]\n",
    "\n",
    "    vdb1 = (beta1 * vdbPrev[0]) + ((1-beta1) * db1)\n",
    "    vdb2 = (beta1 * vdbPrev[1]) + ((1-beta1) * db2)\n",
    "    vdbs = [vdb1, vdb2]\n",
    "\n",
    "    vdw3 = (beta1 * vdwPrev[2]) + ((1-beta1) * dw3)\n",
    "    vdb3 = (beta1 * vdbPrev[2]) + ((1-beta1) * db3)\n",
    "    vdws.append(vdw3)\n",
    "    vdbs.append(vdb3)\n",
    "\n",
    "    # rms prop\n",
    "    sdw1 = (beta2 * sdwPrev[0]) + ((1-beta2)*(dw1**2))\n",
    "    sdw2 = (beta2 * sdwPrev[1]) + ((1-beta2)*(dw2**2))\n",
    "    sdws = [sdw1, sdw2]\n",
    "\n",
    "    sdb1 = (beta2 * sdbPrev[0]) + ((1-beta2)*(db1**2))\n",
    "    sdb2 = (beta2 * sdbPrev[1]) + ((1-beta2)*(db2**2))\n",
    "    sdbs = [sdb1, sdb2]\n",
    "\n",
    "    sdw3 = (beta2 * sdwPrev[2]) + ((1-beta2)*(dw3**2))\n",
    "    sdb3 = (beta2 * sdbPrev[2]) + ((1-beta2)*(db3**2))\n",
    "    sdws.append(sdw3)\n",
    "    sdbs.append(sdb3)\n",
    "\n",
    "    w1 = w1 - (learningRate * vdw1/(sdw1+epsilon)**0.5)\n",
    "    b1 = b1 - (learningRate * vdb1/(sdb1+epsilon)**0.5)\n",
    "    w2 = w2 - (learningRate * vdw2/(sdw2+epsilon)**0.5)\n",
    "    b2 = b2 - (learningRate * vdb2/(sdb2+epsilon)**0.5)\n",
    "    w3 = w3 - (learningRate * vdw3/(sdw3+epsilon)**0.5)\n",
    "    b3 = b3 - (learningRate * vdb3/(sdb3+epsilon)**0.5)\n",
    "    parameters = {\n",
    "        \"w1\": w1,\n",
    "        \"b1\": b1,\n",
    "        \"w2\": w2,\n",
    "        \"b2\": b2,\n",
    "        \"w3\": w3,\n",
    "        \"b3\": b3\n",
    "    }\n",
    "    return parameters, vdws, vdbs, sdws, sdbs"
   ]
  },
  {
   "cell_type": "markdown",
   "metadata": {},
   "source": [
    "Split into mini batches"
   ]
  },
  {
   "cell_type": "code",
   "execution_count": 14,
   "metadata": {},
   "outputs": [],
   "source": [
    "def getMinibatches(x, y, batchSize):\n",
    "    m = x.shape[1]\n",
    "    # Shuffle the data\n",
    "    permutation = np.random.permutation(m)\n",
    "    shuffled_x = x[:, permutation]\n",
    "    shuffled_y = y[:, permutation]\n",
    "    # Split the data into mini batches\n",
    "    num_batches = m // batchSize\n",
    "    batches = []\n",
    "    for i in range(num_batches):\n",
    "        x_batch = shuffled_x[:, i*batchSize:(i+1)*batchSize]\n",
    "        y_batch = shuffled_y[:, i*batchSize:(i+1)*batchSize]\n",
    "        batches.append((x_batch, y_batch))\n",
    "\n",
    "    return batches"
   ]
  },
  {
   "cell_type": "markdown",
   "metadata": {},
   "source": [
    "Train the model"
   ]
  },
  {
   "cell_type": "code",
   "execution_count": 15,
   "metadata": {},
   "outputs": [],
   "source": [
    "def train(x, y, n_h, learningRate, itn, dropOut):\n",
    "    n_x = x.shape[0] # no. of neurons in input layer\n",
    "    n_y = 10\n",
    "    \n",
    "    # Adam optimization variables\n",
    "    beta1 = 0.9\n",
    "    beta2 = 0.999\n",
    "    epsilon = 0.00000001\n",
    "    vdws = [0,0,0]\n",
    "    vdbs = [0,0,0]\n",
    "    sdws = [0,0,0] \n",
    "    sdbs = [0,0,0]\n",
    "\n",
    "    parameters = init(n_x, n_h, n_y)\n",
    "    # with open('trainedModel(2)003.pkl', 'rb') as file:\n",
    "    #     loaded_parameters = pickle.load(file)\n",
    "    # parameters = loaded_parameters\n",
    "    \n",
    "    batchSize = 512\n",
    "    costList = []\n",
    "    a2 = np.zeros(x.shape[1])\n",
    "    a3 = np.zeros(x.shape[1])\n",
    "    for i in range(itn):\n",
    "        miniBatches = getMinibatches(x, y, batchSize)\n",
    "        for batch in miniBatches:\n",
    "            x_batch, y_batch = batch\n",
    "            forwardParameters = forwardPropagation(x, parameters, True, dropOut)\n",
    "            z1, a1, z2, a2, z3, a3 = forwardParameters\n",
    "            backwardPropagationDs = backPropagation(x, y, parameters, forwardParameters)\n",
    "            parameters, vdws, vdbs, sdws, sdbs = updateParameters(parameters, backwardPropagationDs, learningRate, beta1, beta2, epsilon, vdws, vdbs, sdws, sdbs)\n",
    "            \n",
    "            # if(i % (itn / 100) == 0): # to check if the model works well\n",
    "            #     cost = costFunction(a3, y)\n",
    "            #     print(cost)\n",
    "            #     print(a3.shape)\n",
    "            \n",
    "            cost = costFunction(a3, y)\n",
    "            costList.append(cost)\n",
    "        \n",
    "            \n",
    "    return parameters, costList"
   ]
  },
  {
   "cell_type": "markdown",
   "metadata": {},
   "source": [
    "Get the trained model"
   ]
  },
  {
   "cell_type": "code",
   "execution_count": 16,
   "metadata": {},
   "outputs": [],
   "source": [
    "itn = 1\n",
    "n_h = 512\n",
    "learningRate = 0.003\n",
    "dropOut = 0.15\n",
    "trainedParameters, costList = train(featuresTrain, targetTrain, n_h, learningRate, itn, dropOut)"
   ]
  },
  {
   "cell_type": "code",
   "execution_count": null,
   "metadata": {},
   "outputs": [],
   "source": [
    "# # if needed --\n",
    "# with open('trainedModel.pkl', 'rb') as file:\n",
    "#     loaded_parameters = pickle.load(file)\n",
    "#     trainedParameters = loaded_parameters"
   ]
  },
  {
   "cell_type": "markdown",
   "metadata": {},
   "source": [
    "Test the model with training data and test data --> get output by forward propagation with the trained parameter"
   ]
  },
  {
   "cell_type": "code",
   "execution_count": 18,
   "metadata": {},
   "outputs": [],
   "source": [
    "# with training data\n",
    "z1, a1, z2, a2, z3, a3 = forwardPropagation(featuresTrain[:, :2000], trainedParameters, False, dropOut)\n",
    "y_predTraining = a3\n",
    "y_predTraining = np.argmax(y_predTraining, 0) # return the index of max value\n",
    "\n",
    "# with validation data\n",
    "n_observations = featuresTrain.shape[1]\n",
    "indices = np.random.choice(n_observations, size=1000, replace=False) # Randomly shuffle the indices\n",
    "x_val = featuresTrain[:, indices]  # Selected x data for validation\n",
    "y_val = targetTrain[:, indices]  # Selected y data for validation\n",
    "z1, a1, z2, a2, z3, a3 = forwardPropagation(x_val, trainedParameters, False, dropOut)\n",
    "y_predValidation = a3\n",
    "y_predValidation = np.argmax(y_predValidation, 0) # return the index of max value"
   ]
  },
  {
   "cell_type": "markdown",
   "metadata": {},
   "source": [
    "Saving the model with pickle"
   ]
  },
  {
   "cell_type": "code",
   "execution_count": 19,
   "metadata": {},
   "outputs": [],
   "source": [
    "with open('trainedModel.pkl', 'wb') as file:\n",
    "    pickle.dump(trainedParameters, file)\n",
    "\n",
    "# with open('trainedModel.pkl', 'rb') as file:\n",
    "#     loaded_parameters = pickle.load(file)\n"
   ]
  },
  {
   "cell_type": "markdown",
   "metadata": {},
   "source": [
    "Performance Metrics"
   ]
  },
  {
   "cell_type": "code",
   "execution_count": 19,
   "metadata": {},
   "outputs": [
    {
     "data": {
      "text/html": [
       "<style type=\"text/css\">\n",
       "#T_d1f2e table {\n",
       "  border: 1px solid black;\n",
       "}\n",
       "#T_d1f2e th {\n",
       "  border: 1px solid black;\n",
       "}\n",
       "#T_d1f2e td {\n",
       "  border: 1px solid black;\n",
       "}\n",
       "</style>\n",
       "<table id=\"T_d1f2e\">\n",
       "  <thead>\n",
       "    <tr>\n",
       "      <th class=\"blank level0\" >&nbsp;</th>\n",
       "      <th id=\"T_d1f2e_level0_col0\" class=\"col_heading level0 col0\" >Metric</th>\n",
       "      <th id=\"T_d1f2e_level0_col1\" class=\"col_heading level0 col1\" >Training</th>\n",
       "      <th id=\"T_d1f2e_level0_col2\" class=\"col_heading level0 col2\" >Validation</th>\n",
       "    </tr>\n",
       "  </thead>\n",
       "  <tbody>\n",
       "    <tr>\n",
       "      <th id=\"T_d1f2e_level0_row0\" class=\"row_heading level0 row0\" >0</th>\n",
       "      <td id=\"T_d1f2e_row0_col0\" class=\"data row0 col0\" >Accuracy</td>\n",
       "      <td id=\"T_d1f2e_row0_col1\" class=\"data row0 col1\" >32.400000</td>\n",
       "      <td id=\"T_d1f2e_row0_col2\" class=\"data row0 col2\" >31.100000</td>\n",
       "    </tr>\n",
       "    <tr>\n",
       "      <th id=\"T_d1f2e_level0_row1\" class=\"row_heading level0 row1\" >1</th>\n",
       "      <td id=\"T_d1f2e_row1_col0\" class=\"data row1 col0\" >F1 Score</td>\n",
       "      <td id=\"T_d1f2e_row1_col1\" class=\"data row1 col1\" >0.234871</td>\n",
       "      <td id=\"T_d1f2e_row1_col2\" class=\"data row1 col2\" >0.229313</td>\n",
       "    </tr>\n",
       "    <tr>\n",
       "      <th id=\"T_d1f2e_level0_row2\" class=\"row_heading level0 row2\" >2</th>\n",
       "      <td id=\"T_d1f2e_row2_col0\" class=\"data row2 col0\" >Loss</td>\n",
       "      <td id=\"T_d1f2e_row2_col1\" class=\"data row2 col1\" >25.208262</td>\n",
       "      <td id=\"T_d1f2e_row2_col2\" class=\"data row2 col2\" >24.686983</td>\n",
       "    </tr>\n",
       "  </tbody>\n",
       "</table>\n"
      ],
      "text/plain": [
       "<pandas.io.formats.style.Styler at 0x222e5dfc5f0>"
      ]
     },
     "execution_count": 19,
     "metadata": {},
     "output_type": "execute_result"
    }
   ],
   "source": [
    "# for training data\n",
    "y_test = targetTrainBeforeEncode[:2000]\n",
    "trainingAccuracy = accuracy_score(y_test, y_predTraining)*100\n",
    "trainingF1 = f1_score(y_test, y_predTraining, average='macro')\n",
    "trainingLoss = abs(costFunction(y_predTraining.reshape(1, -1), y_test.reshape(1, -1)))\n",
    "# print(\"Training acc - \", trainingAccuracy)\n",
    "# print(\"Training f1 - \", trainingF1)\n",
    "# print(\"Training loss - \", trainingLoss)\n",
    "\n",
    "# for validation data\n",
    "y_test = y_val\n",
    "y_test = np.argmax(y_test, 0)\n",
    "validationAcc = accuracy_score(y_test, y_predValidation)*100\n",
    "validationF1 = f1_score(y_test, y_predValidation, average='macro')\n",
    "validationLoss = abs(costFunction(y_predValidation.reshape(1, -1), y_test.reshape(1, -1)))\n",
    "# print(\"Validation acc - \", validationAcc)\n",
    "# print(\"Validation f1 - \", validationF1)\n",
    "# print(\"Validation loss - \", validationLoss)\n",
    "# precision = precision_score(y_test, y_pred, average='macro')\n",
    "# recall = recall_score(y_test, y_pred, average='macro')\n",
    "\n",
    "# Create table\n",
    "metrics = {\n",
    "    \"Metric\": [\"Accuracy\", \"F1 Score\", \"Loss\"],\n",
    "    \"Training\": [trainingAccuracy, trainingF1, trainingLoss],\n",
    "    \"Validation\": [validationAcc, validationF1, validationLoss]\n",
    "}\n",
    "df = pd.DataFrame(metrics)\n",
    "styled_table = df.style.set_table_styles(\n",
    "    [{'selector': 'table', 'props': [('border', '1px solid black')]},\n",
    "     {'selector': 'th', 'props': [('border', '1px solid black')]},\n",
    "     {'selector': 'td', 'props': [('border', '1px solid black')]}]\n",
    ")\n",
    "\n",
    "# Display the table\n",
    "styled_table"
   ]
  },
  {
   "cell_type": "markdown",
   "metadata": {},
   "source": [
    "Graphs plotting"
   ]
  },
  {
   "cell_type": "code",
   "execution_count": 20,
   "metadata": {},
   "outputs": [
    {
     "data": {
      "image/png": "[encoded data removed]",
      "text/plain": [
       "<Figure size 640x480 with 1 Axes>"
      ]
     },
     "metadata": {},
     "output_type": "display_data"
    }
   ],
   "source": [
    "plt.plot(costList, label='Loss')\n",
    "plt.xlabel('Iterations / Epochs')\n",
    "plt.ylabel('Loss')\n",
    "theTitle = 'Loss vs Iterations with Learning rate - ' + str(learningRate)\n",
    "plt.title(theTitle)\n",
    "plt.show()\n"
   ]
  },
  {
   "cell_type": "markdown",
   "metadata": {},
   "source": [
    "Confusion Matrix"
   ]
  },
  {
   "cell_type": "code",
   "execution_count": 21,
   "metadata": {},
   "outputs": [
    {
     "data": {
      "image/png": "[encoded data removed]",
      "text/plain": [
       "<Figure size 600x500 with 2 Axes>"
      ]
     },
     "metadata": {},
     "output_type": "display_data"
    }
   ],
   "source": [
    "cm = confusion_matrix(y_test, y_predValidation)\n",
    "plt.figure(figsize=(6, 5))\n",
    "sns.heatmap(cm, annot=True, fmt='d', cmap='Blues', xticklabels=np.unique(y_test), yticklabels=np.unique(y_test))\n",
    "plt.title('Confusion Matrix')\n",
    "plt.xlabel('Predicted Labels')\n",
    "plt.ylabel('True Labels')\n",
    "plt.show()"
   ]
  },
  {
   "cell_type": "markdown",
   "metadata": {},
   "source": [
    "For testing with the best model got so far"
   ]
  },
  {
   "cell_type": "code",
   "execution_count": 22,
   "metadata": {},
   "outputs": [
    {
     "name": "stdout",
     "output_type": "stream",
     "text": [
      "Test acc -  83.1\n",
      "Test f1 -  83.29210689130576\n",
      "Test precision -  83.79170490487063\n"
     ]
    }
   ],
   "source": [
    "with open('trainedModel.pkl', 'rb') as file:\n",
    "    loaded_parameters = pickle.load(file)\n",
    "\n",
    "# Predictions with test data\n",
    "z1, a1, z2, a2, z3, a3 = forwardPropagation(featuresTest, loaded_parameters, False, dropOut)\n",
    "y_pred = a3\n",
    "y_pred = np.argmax(y_pred, 0) # return the index of max value\n",
    "\n",
    "# Performance metrics\n",
    "# for test data\n",
    "y_test = targetTest\n",
    "testAcc = accuracy_score(y_test, y_pred)*100\n",
    "testF1 = f1_score(y_test, y_pred, average='macro')*100\n",
    "testPrecision = precision_score(y_test, y_pred, average='macro')*100\n",
    "print(\"Test acc - \", testAcc)\n",
    "print(\"Test f1 - \", testF1)\n",
    "print(\"Test precision - \", testPrecision)\n"
   ]
  }
 ],
 "metadata": {
  "kernelspec": {
   "display_name": "Python 3",
   "language": "python",
   "name": "python3"
  },
  "language_info": {
   "codemirror_mode": {
    "name": "ipython",
    "version": 3
   },
   "file_extension": ".py",
   "mimetype": "text/x-python",
   "name": "python",
   "nbconvert_exporter": "python",
   "pygments_lexer": "ipython3",
   "version": "3.12.0"
  }
 },
 "nbformat": 4,
 "nbformat_minor": 2
}
